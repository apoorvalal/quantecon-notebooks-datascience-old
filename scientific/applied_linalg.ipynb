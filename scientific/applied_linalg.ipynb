version https://git-lfs.github.com/spec/v1
oid sha256:d9003fd90303ac7157507da2de5c05786dfd0b5c4e4dafb990a7413d00f6827e
size 98098
