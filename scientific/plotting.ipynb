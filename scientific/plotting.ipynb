version https://git-lfs.github.com/spec/v1
oid sha256:98bbccd816da8c49c0974ed260b1579fa1c2f2634ddf73acf974187e328c2bf5
size 120092
