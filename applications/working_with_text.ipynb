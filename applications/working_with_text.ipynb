version https://git-lfs.github.com/spec/v1
oid sha256:7dddfaa6dd9561fae1f4e7d701ef1106f6330058c1f826d3572e42221f7c9300
size 1890455
